{
 "cells": [
  {
   "cell_type": "code",
   "execution_count": 3,
   "id": "5349e40c",
   "metadata": {},
   "outputs": [
    {
     "data": {
      "text/plain": [
       "Track(\"(MediaTrack*)0x000000000C134510\")"
      ]
     },
     "execution_count": 3,
     "metadata": {},
     "output_type": "execute_result"
    }
   ],
   "source": [
    "import reapy\n",
    "from reapy import reascript_api as reaper\n",
    "\n",
    "project = reapy.Project()\n",
    "project.add_track(0,\"Track 1\")\n",
    "project.add_track(0,\"Track 2\")\n",
    "project.add_track(0,\"Track 3\")\n",
    "project.add_track(0,\"Track 4\")"
   ]
  },
  {
   "cell_type": "code",
   "execution_count": 8,
   "id": "61a2b7ad",
   "metadata": {},
   "outputs": [],
   "source": [
    "track = project._get_track_by_name(\"Track 2\")\n",
    "track.make_only_selected_track()"
   ]
  },
  {
   "cell_type": "code",
   "execution_count": 23,
   "id": "6e1ec036",
   "metadata": {},
   "outputs": [
    {
     "name": "stdout",
     "output_type": "stream",
     "text": [
      "1 1 1\n"
     ]
    }
   ],
   "source": [
    "a = reaper.InsertMedia(\"C:\\\\Users\\\\PXQ\\\\Desktop\\\\mcpreaper\\\\WAV\\\\DIGI-X-01-Tr01..wav\", 0)\n",
    "b = reaper.InsertMedia(\"C:\\\\Users\\\\PXQ\\\\Desktop\\\\mcpreaper\\\\WAV\\\\DIGI-X-01-Tr01..wav\", 0)\n",
    "c = reaper.InsertMedia(\"C:\\\\Users\\\\PXQ\\\\Desktop\\\\mcpreaper\\\\WAV\\\\DIGI-X-01-Tr01..wav\", 0)\n",
    "print(f\"{a} {b} {c}\")\n"
   ]
  },
  {
   "cell_type": "code",
   "execution_count": null,
   "id": "2991a1c4",
   "metadata": {},
   "outputs": [
    {
     "name": "stdout",
     "output_type": "stream",
     "text": [
      "DIGI-X-01-Tr01..wav\n"
     ]
    },
    {
     "ename": "AttributeError",
     "evalue": "property 'name' of 'Take' object has no setter",
     "output_type": "error",
     "traceback": [
      "\u001b[31m---------------------------------------------------------------------------\u001b[39m",
      "\u001b[31mAttributeError\u001b[39m                            Traceback (most recent call last)",
      "\u001b[36mCell\u001b[39m\u001b[36m \u001b[39m\u001b[32mIn[24]\u001b[39m\u001b[32m, line 4\u001b[39m\n\u001b[32m      2\u001b[39m \u001b[38;5;28;01mfor\u001b[39;00m t \u001b[38;5;129;01min\u001b[39;00m i.takes:\n\u001b[32m      3\u001b[39m     \u001b[38;5;28mprint\u001b[39m(\u001b[33mf\u001b[39m\u001b[33m\"\u001b[39m\u001b[38;5;132;01m{\u001b[39;00mt.name\u001b[38;5;132;01m}\u001b[39;00m\u001b[33m\"\u001b[39m)\n\u001b[32m----> \u001b[39m\u001b[32m4\u001b[39m     \u001b[43mt\u001b[49m\u001b[43m.\u001b[49m\u001b[43mname\u001b[49m = \u001b[33m\"\u001b[39m\u001b[33mHHHH\u001b[39m\u001b[33m\"\u001b[39m\n",
      "\u001b[31mAttributeError\u001b[39m: property 'name' of 'Take' object has no setter"
     ]
    }
   ],
   "source": [
    "for i in track.items:\n",
    "    for t in i.takes:\n",
    "        print(f\"{t.name}\")"
   ]
  }
 ],
 "metadata": {
  "kernelspec": {
   "display_name": "Python 3",
   "language": "python",
   "name": "python3"
  },
  "language_info": {
   "codemirror_mode": {
    "name": "ipython",
    "version": 3
   },
   "file_extension": ".py",
   "mimetype": "text/x-python",
   "name": "python",
   "nbconvert_exporter": "python",
   "pygments_lexer": "ipython3",
   "version": "3.13.3"
  }
 },
 "nbformat": 4,
 "nbformat_minor": 5
}
