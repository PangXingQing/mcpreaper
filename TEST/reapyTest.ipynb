{
 "cells": [
  {
   "cell_type": "code",
   "execution_count": 1,
   "id": "5349e40c",
   "metadata": {},
   "outputs": [],
   "source": [
    "import reapy\n",
    "from reapy import reascript_api as reaper\n",
    "\n",
    "project = reapy.Project()\n"
   ]
  },
  {
   "cell_type": "code",
   "execution_count": null,
   "id": "faaecf50",
   "metadata": {},
   "outputs": [],
   "source": [
    "project.add_track(0,\"Track 1\")\n",
    "project.add_track(0,\"Track 2\")\n",
    "project.add_track(0,\"Track 3\")\n",
    "project.add_track(0,\"Track 4\")"
   ]
  },
  {
   "cell_type": "code",
   "execution_count": 2,
   "id": "61a2b7ad",
   "metadata": {},
   "outputs": [],
   "source": [
    "track = project._get_track_by_name(\"Test\")\n",
    "track.make_only_selected_track()"
   ]
  },
  {
   "cell_type": "code",
   "execution_count": 11,
   "id": "6e1ec036",
   "metadata": {},
   "outputs": [
    {
     "name": "stdout",
     "output_type": "stream",
     "text": [
      "1 1 1\n"
     ]
    }
   ],
   "source": [
    "a = reaper.InsertMedia(\"C:\\\\Users\\\\PXQ\\\\Desktop\\\\mcpreaper\\\\WAV\\\\DIGI-X-01-Tr01..wav\", 0)\n",
    "b = reaper.InsertMedia(\"C:\\\\Users\\\\PXQ\\\\Desktop\\\\mcpreaper\\\\WAV\\\\DIGI-X-01-Tr01..wav\", 0)\n",
    "c = reaper.InsertMedia(\"C:\\\\Users\\\\PXQ\\\\Desktop\\\\mcpreaper\\\\WAV\\\\DIGI-X-01-Tr01..wav\", 0)\n",
    "print(f\"{a} {b} {c}\")\n"
   ]
  },
  {
   "cell_type": "code",
   "execution_count": 3,
   "id": "2991a1c4",
   "metadata": {},
   "outputs": [
    {
     "name": "stdout",
     "output_type": "stream",
     "text": [
      "DIGI-X-01-Tr07..wav\n"
     ]
    }
   ],
   "source": [
    "for i in track.items:\n",
    "    for t in i.takes:\n",
    "        print(f\"{t.name}\")"
   ]
  },
  {
   "cell_type": "code",
   "execution_count": 14,
   "id": "d83f28de",
   "metadata": {},
   "outputs": [],
   "source": [
    "track.set_info_value(\"D_VOL\", 0)"
   ]
  },
  {
   "cell_type": "code",
   "execution_count": null,
   "id": "ffc553aa",
   "metadata": {},
   "outputs": [],
   "source": []
  }
 ],
 "metadata": {
  "kernelspec": {
   "display_name": "Python 3",
   "language": "python",
   "name": "python3"
  },
  "language_info": {
   "codemirror_mode": {
    "name": "ipython",
    "version": 3
   },
   "file_extension": ".py",
   "mimetype": "text/x-python",
   "name": "python",
   "nbconvert_exporter": "python",
   "pygments_lexer": "ipython3",
   "version": "3.13.3"
  }
 },
 "nbformat": 4,
 "nbformat_minor": 5
}
